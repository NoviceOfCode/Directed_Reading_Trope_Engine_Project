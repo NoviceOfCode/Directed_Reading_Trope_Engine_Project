{
 "cells": [
  {
   "cell_type": "code",
   "execution_count": 1,
   "metadata": {},
   "outputs": [
    {
     "name": "stdout",
     "output_type": "stream",
     "text": [
      "Requirement already satisfied: gensim in c:\\users\\jacob\\anaconda3\\lib\\site-packages (4.3.3)\n",
      "Requirement already satisfied: numpy<2.0,>=1.18.5 in c:\\users\\jacob\\anaconda3\\lib\\site-packages (from gensim) (1.26.4)\n",
      "Requirement already satisfied: scipy<1.14.0,>=1.7.0 in c:\\users\\jacob\\anaconda3\\lib\\site-packages (from gensim) (1.13.1)\n",
      "Requirement already satisfied: smart-open>=1.8.1 in c:\\users\\jacob\\anaconda3\\lib\\site-packages (from gensim) (5.2.1)\n"
     ]
    }
   ],
   "source": [
    "!pip install gensim"
   ]
  },
  {
   "cell_type": "code",
   "execution_count": 1,
   "metadata": {
    "colab": {
     "base_uri": "https://localhost:8080/"
    },
    "executionInfo": {
     "elapsed": 2,
     "status": "ok",
     "timestamp": 1722275604663,
     "user": {
      "displayName": "James Xia",
      "userId": "07209726594367794655"
     },
     "user_tz": 300
    },
    "id": "QakNA03CVFnV",
    "outputId": "307fc818-1a6a-4aff-e8bd-1ca0ed4ef6e0"
   },
   "outputs": [
    {
     "name": "stderr",
     "output_type": "stream",
     "text": [
      "[nltk_data] Error loading punkt: <urlopen error [Errno 11001]\n",
      "[nltk_data]     getaddrinfo failed>\n",
      "[nltk_data] Error loading stopwords: <urlopen error [Errno 11001]\n",
      "[nltk_data]     getaddrinfo failed>\n",
      "[nltk_data] Error loading wordnet: <urlopen error [Errno 11001]\n",
      "[nltk_data]     getaddrinfo failed>\n"
     ]
    }
   ],
   "source": [
    "import pandas as pd\n",
    "import numpy as np\n",
    "import matplotlib.pyplot as plt\n",
    "import nltk\n",
    "from nltk.tokenize import word_tokenize\n",
    "from nltk.corpus import stopwords\n",
    "nltk.download('punkt')\n",
    "nltk.download('stopwords')\n",
    "nltk.download('wordnet')\n",
    "from gensim import corpora, models\n",
    "from typing import List\n",
    "import string\n",
    "import spacy\n",
    "import ast\n",
    "from sklearn.feature_extraction.text import CountVectorizer, TfidfVectorizer"
   ]
  },
  {
   "cell_type": "markdown",
   "metadata": {
    "id": "fSlhufQbfP-q"
   },
   "source": [
    "# Data Retrieval"
   ]
  },
  {
   "cell_type": "code",
   "execution_count": 9,
   "metadata": {
    "colab": {
     "base_uri": "https://localhost:8080/",
     "height": 293
    },
    "executionInfo": {
     "elapsed": 4,
     "status": "ok",
     "timestamp": 1722267267748,
     "user": {
      "displayName": "James Xia",
      "userId": "07209726594367794655"
     },
     "user_tz": 300
    },
    "id": "hEJDJrgbcSwX",
    "outputId": "b0aab262-3b53-429f-c4ff-17d54ec9a7c1",
    "scrolled": true
   },
   "outputs": [
    {
     "data": {
      "text/html": [
       "<div>\n",
       "<style scoped>\n",
       "    .dataframe tbody tr th:only-of-type {\n",
       "        vertical-align: middle;\n",
       "    }\n",
       "\n",
       "    .dataframe tbody tr th {\n",
       "        vertical-align: top;\n",
       "    }\n",
       "\n",
       "    .dataframe thead th {\n",
       "        text-align: right;\n",
       "    }\n",
       "</style>\n",
       "<table border=\"1\" class=\"dataframe\">\n",
       "  <thead>\n",
       "    <tr style=\"text-align: right;\">\n",
       "      <th></th>\n",
       "      <th>trope_name</th>\n",
       "      <th>trope_description_partial_clean</th>\n",
       "    </tr>\n",
       "  </thead>\n",
       "  <tbody>\n",
       "    <tr>\n",
       "      <th>0</th>\n",
       "      <td>Aardvark Trunks</td>\n",
       "      <td>['', '', ' ', '', \"Anteaters and aardvarks are...</td>\n",
       "    </tr>\n",
       "    <tr>\n",
       "      <th>1</th>\n",
       "      <td>Abandoned Area</td>\n",
       "      <td>['', '', ' Image from Pripyat, a ghost town ne...</td>\n",
       "    </tr>\n",
       "    <tr>\n",
       "      <th>2</th>\n",
       "      <td>Abandoned Camp Ruins</td>\n",
       "      <td>['', '', ' ', '', \"You're lost in the woods , ...</td>\n",
       "    </tr>\n",
       "    <tr>\n",
       "      <th>3</th>\n",
       "      <td>Abandoned Catchphrase</td>\n",
       "      <td>['', '', ' ', \"Character Catchphrases are a gr...</td>\n",
       "    </tr>\n",
       "    <tr>\n",
       "      <th>4</th>\n",
       "      <td>Abandoned Hospital</td>\n",
       "      <td>['', '', ' ', '', '', 'The creepy abandoned ho...</td>\n",
       "    </tr>\n",
       "  </tbody>\n",
       "</table>\n",
       "</div>"
      ],
      "text/plain": [
       "              trope_name                    trope_description_partial_clean\n",
       "0        Aardvark Trunks  ['', '', ' ', '', \"Anteaters and aardvarks are...\n",
       "1         Abandoned Area  ['', '', ' Image from Pripyat, a ghost town ne...\n",
       "2   Abandoned Camp Ruins  ['', '', ' ', '', \"You're lost in the woods , ...\n",
       "3  Abandoned Catchphrase  ['', '', ' ', \"Character Catchphrases are a gr...\n",
       "4     Abandoned Hospital  ['', '', ' ', '', '', 'The creepy abandoned ho..."
      ]
     },
     "execution_count": 9,
     "metadata": {},
     "output_type": "execute_result"
    }
   ],
   "source": [
    "columns_to_load =['trope_name', 'trope_description_partial_clean']\n",
    "df = pd.read_csv('../data_clean/parsed_tropes_clean.csv',usecols=columns_to_load)\n",
    "\n",
    "df.head()"
   ]
  },
  {
   "cell_type": "markdown",
   "metadata": {
    "id": "KfyWvLHvkG14"
   },
   "source": [
    "# LDA Modeling"
   ]
  },
  {
   "cell_type": "code",
   "execution_count": 11,
   "metadata": {},
   "outputs": [
    {
     "data": {
      "text/html": [
       "<div>\n",
       "<style scoped>\n",
       "    .dataframe tbody tr th:only-of-type {\n",
       "        vertical-align: middle;\n",
       "    }\n",
       "\n",
       "    .dataframe tbody tr th {\n",
       "        vertical-align: top;\n",
       "    }\n",
       "\n",
       "    .dataframe thead th {\n",
       "        text-align: right;\n",
       "    }\n",
       "</style>\n",
       "<table border=\"1\" class=\"dataframe\">\n",
       "  <thead>\n",
       "    <tr style=\"text-align: right;\">\n",
       "      <th></th>\n",
       "      <th>trope_name</th>\n",
       "      <th>trope_description_trad_clean</th>\n",
       "    </tr>\n",
       "  </thead>\n",
       "  <tbody>\n",
       "    <tr>\n",
       "      <th>0</th>\n",
       "      <td>Aardvark Trunks</td>\n",
       "      <td>[anteater, aardvark, somewhat, common, fiction...</td>\n",
       "    </tr>\n",
       "    <tr>\n",
       "      <th>1</th>\n",
       "      <td>Abandoned Area</td>\n",
       "      <td>[image, pripyat, ghost, town, near, chernobyl,...</td>\n",
       "    </tr>\n",
       "    <tr>\n",
       "      <th>2</th>\n",
       "      <td>Abandoned Camp Ruins</td>\n",
       "      <td>[lose, wood, middle, night, creepy, sound, bra...</td>\n",
       "    </tr>\n",
       "    <tr>\n",
       "      <th>3</th>\n",
       "      <td>Abandoned Catchphrase</td>\n",
       "      <td>[character, catchphrase, great, simple, way, h...</td>\n",
       "    </tr>\n",
       "    <tr>\n",
       "      <th>4</th>\n",
       "      <td>Abandoned Hospital</td>\n",
       "      <td>[creepy, abandon, mental, institution, common,...</td>\n",
       "    </tr>\n",
       "  </tbody>\n",
       "</table>\n",
       "</div>"
      ],
      "text/plain": [
       "              trope_name                       trope_description_trad_clean\n",
       "0        Aardvark Trunks  [anteater, aardvark, somewhat, common, fiction...\n",
       "1         Abandoned Area  [image, pripyat, ghost, town, near, chernobyl,...\n",
       "2   Abandoned Camp Ruins  [lose, wood, middle, night, creepy, sound, bra...\n",
       "3  Abandoned Catchphrase  [character, catchphrase, great, simple, way, h...\n",
       "4     Abandoned Hospital  [creepy, abandon, mental, institution, common,..."
      ]
     },
     "execution_count": 11,
     "metadata": {},
     "output_type": "execute_result"
    }
   ],
   "source": [
    "columns_to_load =['trope_name', 'trope_description_trad_clean']\n",
    "df = pd.read_csv('../data_clean/parsed_tropes_clean.csv',usecols=columns_to_load, converters={\n",
    "    'trope_description_trad_clean': ast.literal_eval})\n",
    "\n",
    "df.head()"
   ]
  },
  {
   "cell_type": "code",
   "execution_count": 15,
   "metadata": {},
   "outputs": [
    {
     "name": "stdout",
     "output_type": "stream",
     "text": [
      "Collecting pyLDAvis\n",
      "  Downloading pyLDAvis-3.4.1-py3-none-any.whl.metadata (4.2 kB)\n",
      "Requirement already satisfied: numpy>=1.24.2 in c:\\users\\jacob\\anaconda3\\lib\\site-packages (from pyLDAvis) (1.26.4)\n",
      "Requirement already satisfied: scipy in c:\\users\\jacob\\anaconda3\\lib\\site-packages (from pyLDAvis) (1.13.1)\n",
      "Collecting pandas>=2.0.0 (from pyLDAvis)\n",
      "  Downloading pandas-2.2.2-cp39-cp39-win_amd64.whl.metadata (19 kB)\n",
      "Requirement already satisfied: joblib>=1.2.0 in c:\\users\\jacob\\anaconda3\\lib\\site-packages (from pyLDAvis) (1.4.2)\n",
      "Requirement already satisfied: jinja2 in c:\\users\\jacob\\anaconda3\\lib\\site-packages (from pyLDAvis) (2.11.3)\n",
      "Requirement already satisfied: numexpr in c:\\users\\jacob\\anaconda3\\lib\\site-packages (from pyLDAvis) (2.8.7)\n",
      "Collecting funcy (from pyLDAvis)\n",
      "  Downloading funcy-2.0-py2.py3-none-any.whl.metadata (5.9 kB)\n",
      "Requirement already satisfied: scikit-learn>=1.0.0 in c:\\users\\jacob\\anaconda3\\lib\\site-packages (from pyLDAvis) (1.4.2)\n",
      "Requirement already satisfied: gensim in c:\\users\\jacob\\anaconda3\\lib\\site-packages (from pyLDAvis) (4.3.3)\n",
      "Requirement already satisfied: setuptools in c:\\users\\jacob\\anaconda3\\lib\\site-packages (from pyLDAvis) (68.2.2)\n",
      "Requirement already satisfied: python-dateutil>=2.8.2 in c:\\users\\jacob\\anaconda3\\lib\\site-packages (from pandas>=2.0.0->pyLDAvis) (2.8.2)\n",
      "Requirement already satisfied: pytz>=2020.1 in c:\\users\\jacob\\anaconda3\\lib\\site-packages (from pandas>=2.0.0->pyLDAvis) (2024.1)\n",
      "Collecting tzdata>=2022.7 (from pandas>=2.0.0->pyLDAvis)\n",
      "  Using cached tzdata-2024.1-py2.py3-none-any.whl.metadata (1.4 kB)\n",
      "Requirement already satisfied: threadpoolctl>=2.0.0 in c:\\users\\jacob\\anaconda3\\lib\\site-packages (from scikit-learn>=1.0.0->pyLDAvis) (2.2.0)\n",
      "Requirement already satisfied: smart-open>=1.8.1 in c:\\users\\jacob\\anaconda3\\lib\\site-packages (from gensim->pyLDAvis) (5.2.1)\n",
      "Requirement already satisfied: MarkupSafe>=0.23 in c:\\users\\jacob\\anaconda3\\lib\\site-packages (from jinja2->pyLDAvis) (2.0.1)\n",
      "Requirement already satisfied: six>=1.5 in c:\\users\\jacob\\anaconda3\\lib\\site-packages (from python-dateutil>=2.8.2->pandas>=2.0.0->pyLDAvis) (1.16.0)\n",
      "Downloading pyLDAvis-3.4.1-py3-none-any.whl (2.6 MB)\n",
      "   ---------------------------------------- 0.0/2.6 MB ? eta -:--:--\n",
      "   --- ------------------------------------ 0.2/2.6 MB 4.6 MB/s eta 0:00:01\n",
      "   ----------------------- ---------------- 1.5/2.6 MB 16.2 MB/s eta 0:00:01\n",
      "   ---------------------------------------- 2.6/2.6 MB 20.7 MB/s eta 0:00:00\n",
      "Downloading pandas-2.2.2-cp39-cp39-win_amd64.whl (11.6 MB)\n",
      "   ---------------------------------------- 0.0/11.6 MB ? eta -:--:--\n",
      "   ------- -------------------------------- 2.1/11.6 MB 45.1 MB/s eta 0:00:01\n",
      "   ------- -------------------------------- 2.3/11.6 MB 48.4 MB/s eta 0:00:01\n",
      "   -------------------- ------------------- 5.8/11.6 MB 46.5 MB/s eta 0:00:01\n",
      "   --------------------------- ------------ 7.9/11.6 MB 46.0 MB/s eta 0:00:01\n",
      "   ---------------------------------- ----- 10.0/11.6 MB 45.8 MB/s eta 0:00:01\n",
      "   ---------------------------------------  11.6/11.6 MB 46.7 MB/s eta 0:00:01\n",
      "   ---------------------------------------- 11.6/11.6 MB 43.7 MB/s eta 0:00:00\n",
      "Downloading funcy-2.0-py2.py3-none-any.whl (30 kB)\n",
      "Using cached tzdata-2024.1-py2.py3-none-any.whl (345 kB)\n",
      "Installing collected packages: funcy, tzdata, pandas, pyLDAvis\n",
      "  Attempting uninstall: pandas\n",
      "    Found existing installation: pandas 1.4.4\n",
      "    Uninstalling pandas-1.4.4:\n",
      "      Successfully uninstalled pandas-1.4.4\n",
      "Successfully installed funcy-2.0 pandas-2.2.2 pyLDAvis-3.4.1 tzdata-2024.1\n"
     ]
    }
   ],
   "source": [
    "!pip install pyLDAvis"
   ]
  },
  {
   "cell_type": "code",
   "execution_count": 4,
   "metadata": {},
   "outputs": [],
   "source": [
    "from gensim.models import CoherenceModel\n",
    "from gensim import corpora, models\n",
    "import pyLDAvis\n",
    "import pyLDAvis.gensim_models as gensimvis"
   ]
  },
  {
   "cell_type": "code",
   "execution_count": 25,
   "metadata": {},
   "outputs": [
    {
     "name": "stdout",
     "output_type": "stream",
     "text": [
      "Requirement already satisfied: pandas in c:\\users\\jacob\\anaconda3\\lib\\site-packages (2.2.2)\n",
      "Requirement already satisfied: pyLDAvis in c:\\users\\jacob\\anaconda3\\lib\\site-packages (3.4.1)\n",
      "Requirement already satisfied: joblib in c:\\users\\jacob\\anaconda3\\lib\\site-packages (1.4.2)\n",
      "Requirement already satisfied: numpy>=1.22.4 in c:\\users\\jacob\\anaconda3\\lib\\site-packages (from pandas) (1.26.4)\n",
      "Requirement already satisfied: python-dateutil>=2.8.2 in c:\\users\\jacob\\anaconda3\\lib\\site-packages (from pandas) (2.8.2)\n",
      "Requirement already satisfied: pytz>=2020.1 in c:\\users\\jacob\\anaconda3\\lib\\site-packages (from pandas) (2024.1)\n",
      "Requirement already satisfied: tzdata>=2022.7 in c:\\users\\jacob\\anaconda3\\lib\\site-packages (from pandas) (2024.1)\n",
      "Requirement already satisfied: scipy in c:\\users\\jacob\\anaconda3\\lib\\site-packages (from pyLDAvis) (1.13.1)\n",
      "Requirement already satisfied: jinja2 in c:\\users\\jacob\\anaconda3\\lib\\site-packages (from pyLDAvis) (2.11.3)\n",
      "Requirement already satisfied: numexpr in c:\\users\\jacob\\anaconda3\\lib\\site-packages (from pyLDAvis) (2.8.7)\n",
      "Requirement already satisfied: funcy in c:\\users\\jacob\\anaconda3\\lib\\site-packages (from pyLDAvis) (2.0)\n",
      "Requirement already satisfied: scikit-learn>=1.0.0 in c:\\users\\jacob\\anaconda3\\lib\\site-packages (from pyLDAvis) (1.4.2)\n",
      "Requirement already satisfied: gensim in c:\\users\\jacob\\anaconda3\\lib\\site-packages (from pyLDAvis) (4.3.3)\n",
      "Requirement already satisfied: setuptools in c:\\users\\jacob\\anaconda3\\lib\\site-packages (from pyLDAvis) (68.2.2)\n",
      "Requirement already satisfied: six>=1.5 in c:\\users\\jacob\\anaconda3\\lib\\site-packages (from python-dateutil>=2.8.2->pandas) (1.16.0)\n",
      "Requirement already satisfied: threadpoolctl>=2.0.0 in c:\\users\\jacob\\anaconda3\\lib\\site-packages (from scikit-learn>=1.0.0->pyLDAvis) (2.2.0)\n",
      "Requirement already satisfied: smart-open>=1.8.1 in c:\\users\\jacob\\anaconda3\\lib\\site-packages (from gensim->pyLDAvis) (5.2.1)\n",
      "Requirement already satisfied: MarkupSafe>=0.23 in c:\\users\\jacob\\anaconda3\\lib\\site-packages (from jinja2->pyLDAvis) (2.0.1)\n"
     ]
    }
   ],
   "source": [
    "!pip install --upgrade pandas pyLDAvis joblib"
   ]
  },
  {
   "cell_type": "code",
   "execution_count": 12,
   "metadata": {},
   "outputs": [],
   "source": [
    "documents = df['trope_description_trad_clean']"
   ]
  },
  {
   "cell_type": "code",
   "execution_count": 13,
   "metadata": {
    "id": "cumikzztkFmo"
   },
   "outputs": [],
   "source": [
    "\n",
    "dictionary = corpora.Dictionary(documents)\n",
    "doc_term_matrix = [dictionary.doc2bow(text) for text in documents]"
   ]
  },
  {
   "cell_type": "code",
   "execution_count": 21,
   "metadata": {},
   "outputs": [
    {
     "name": "stdout",
     "output_type": "stream",
     "text": [
      "Number of Topics: 5, Coherence Score: 0.2881694616183096\n",
      "Number of Topics: 6, Coherence Score: 0.34274968371065945\n",
      "Number of Topics: 7, Coherence Score: 0.36478123456025\n",
      "Number of Topics: 8, Coherence Score: 0.34099443787767436\n",
      "Number of Topics: 9, Coherence Score: 0.3887366013115313\n",
      "Number of Topics: 10, Coherence Score: 0.3670552331839626\n",
      "Number of Topics: 11, Coherence Score: 0.40120474571393727\n",
      "Number of Topics: 12, Coherence Score: 0.4064436008538534\n",
      "Number of Topics: 13, Coherence Score: 0.40271193000817973\n",
      "Number of Topics: 14, Coherence Score: 0.43178047670642805\n",
      "Number of Topics: 15, Coherence Score: 0.4191294427837787\n",
      "Number of Topics: 16, Coherence Score: 0.42848434537545793\n",
      "Number of Topics: 17, Coherence Score: 0.4337368013192866\n",
      "Number of Topics: 18, Coherence Score: 0.42577971295962486\n",
      "Number of Topics: 19, Coherence Score: 0.4432608596457694\n",
      "Number of Topics: 20, Coherence Score: 0.44641027340214806\n",
      "Number of Topics: 5, Coherence Score: 0.2881694616183096\n",
      "Number of Topics: 6, Coherence Score: 0.34274968371065945\n",
      "Number of Topics: 7, Coherence Score: 0.36478123456025\n",
      "Number of Topics: 8, Coherence Score: 0.34099443787767436\n",
      "Number of Topics: 9, Coherence Score: 0.3887366013115313\n",
      "Number of Topics: 10, Coherence Score: 0.3670552331839626\n",
      "Number of Topics: 11, Coherence Score: 0.40120474571393727\n",
      "Number of Topics: 12, Coherence Score: 0.4064436008538534\n",
      "Number of Topics: 13, Coherence Score: 0.40271193000817973\n",
      "Number of Topics: 14, Coherence Score: 0.43178047670642805\n",
      "Number of Topics: 15, Coherence Score: 0.4191294427837787\n",
      "Number of Topics: 16, Coherence Score: 0.42848434537545793\n",
      "Number of Topics: 17, Coherence Score: 0.4337368013192866\n",
      "Number of Topics: 18, Coherence Score: 0.42577971295962486\n",
      "Number of Topics: 19, Coherence Score: 0.4432608596457694\n",
      "Number of Topics: 20, Coherence Score: 0.44641027340214806\n",
      "\n",
      "Optimal Number of Topics: 20\n",
      "The best LDA model has been saved as 'best_lda_model.model' with a coherence score of 0.44641027340214806.\n"
     ]
    }
   ],
   "source": [
    "num_topics_range = range(5, 21)  # Adjust the range based on your requirements\n",
    "\n",
    "# Initialize lists to store coherence scores and the best model\n",
    "coherence_scores = []\n",
    "best_model = None\n",
    "best_score = -1\n",
    "\n",
    "# Iterate over the range of candidate numbers of topics\n",
    "for num_topics in num_topics_range:\n",
    "    # Train the LDA model\n",
    "    lda_model = models.LdaModel(doc_term_matrix, num_topics=num_topics, id2word=dictionary, passes=50)\n",
    "\n",
    "    # Compute coherence score\n",
    "    coherence_model = CoherenceModel(model=lda_model, texts=documents, dictionary=dictionary, coherence='c_v')\n",
    "    coherence_score = coherence_model.get_coherence()\n",
    "\n",
    "    # Store the coherence score\n",
    "    coherence_scores.append(coherence_score)\n",
    "    print(f\"Number of Topics: {num_topics}, Coherence Score: {coherence_score}\")\n",
    "\n",
    "    # Update the best model if this score is higher than the previous best\n",
    "    if coherence_score > best_score:\n",
    "        best_score = coherence_score\n",
    "        best_model = lda_model\n",
    "\n",
    "# Find the optimal number of topics with the highest coherence score\n",
    "optimal_num_topics = num_topics_range[coherence_scores.index(max(coherence_scores))]\n",
    "\n",
    "# Print the coherence scores for each number of topics\n",
    "for num_topics, coherence_score in zip(num_topics_range, coherence_scores):\n",
    "    print(f\"Number of Topics: {num_topics}, Coherence Score: {coherence_score}\")\n",
    "\n",
    "# Print the optimal number of topics\n",
    "print(f\"\\nOptimal Number of Topics: {optimal_num_topics}\")\n",
    "\n",
    "# Save the best model\n",
    "best_model.save('best_lda_model.model')\n",
    "\n",
    "print(f\"The best LDA model has been saved as 'best_lda_model.model' with a coherence score of {best_score}.\")"
   ]
  },
  {
   "cell_type": "code",
   "execution_count": 14,
   "metadata": {},
   "outputs": [
    {
     "name": "stdout",
     "output_type": "stream",
     "text": [
      "(0, '0.034*\"human\" + 0.013*\"may\" + 0.012*\"alien\" + 0.011*\"trope\" + 0.010*\"example\" + 0.010*\"food\" + 0.010*\"like\" + 0.010*\"robot\" + 0.009*\"also\" + 0.008*\"body\"')\n",
      "(1, '0.024*\"story\" + 0.022*\"time\" + 0.021*\"world\" + 0.009*\"plot\" + 0.009*\"work\" + 0.008*\"trope\" + 0.008*\"fiction\" + 0.008*\"one\" + 0.008*\"setting\" + 0.007*\"real\"')\n",
      "(2, '0.044*\"child\" + 0.027*\"parent\" + 0.021*\"kid\" + 0.020*\"family\" + 0.018*\"old\" + 0.014*\"young\" + 0.012*\"may\" + 0.010*\"age\" + 0.010*\"adult\" + 0.010*\"one\"')\n",
      "(3, '0.042*\"power\" + 0.022*\"magic\" + 0.017*\"may\" + 0.016*\"god\" + 0.012*\"use\" + 0.011*\"also\" + 0.009*\"trope\" + 0.009*\"see\" + 0.009*\"magical\" + 0.008*\"often\"')\n",
      "(4, '0.064*\"game\" + 0.022*\"player\" + 0.015*\"video\" + 0.010*\"one\" + 0.009*\"level\" + 0.008*\"use\" + 0.007*\"time\" + 0.007*\"make\" + 0.007*\"play\" + 0.007*\"also\"')\n",
      "(5, '0.091*\"animal\" + 0.024*\"creature\" + 0.024*\"dog\" + 0.023*\"monster\" + 0.021*\"pet\" + 0.019*\"cat\" + 0.014*\"bird\" + 0.013*\"like\" + 0.012*\"giant\" + 0.012*\"human\"')\n",
      "(6, '0.029*\"woman\" + 0.026*\"girl\" + 0.024*\"man\" + 0.021*\"love\" + 0.019*\"female\" + 0.018*\"character\" + 0.018*\"trope\" + 0.018*\"male\" + 0.017*\"sex\" + 0.012*\"gender\"')\n",
      "(7, '0.052*\"character\" + 0.014*\"may\" + 0.012*\"one\" + 0.011*\"trope\" + 0.010*\"see\" + 0.009*\"also\" + 0.009*\"compare\" + 0.008*\"person\" + 0.008*\"get\" + 0.008*\"someone\"')\n",
      "(8, '0.015*\"people\" + 0.010*\"make\" + 0.009*\"trope\" + 0.009*\"also\" + 0.008*\"like\" + 0.008*\"even\" + 0.007*\"use\" + 0.007*\"see\" + 0.006*\"real\" + 0.006*\"often\"')\n",
      "(9, '0.025*\"work\" + 0.019*\"name\" + 0.017*\"show\" + 0.009*\"series\" + 0.009*\"trope\" + 0.009*\"also\" + 0.008*\"film\" + 0.008*\"use\" + 0.008*\"make\" + 0.008*\"fan\"')\n",
      "(10, '0.033*\"hero\" + 0.026*\"villain\" + 0.018*\"evil\" + 0.015*\"good\" + 0.014*\"bad\" + 0.012*\"may\" + 0.012*\"character\" + 0.010*\"one\" + 0.008*\"even\" + 0.007*\"trope\"')\n",
      "(11, '0.105*\"thread\" + 0.077*\"remove\" + 0.073*\"without\" + 0.069*\"image\" + 0.063*\"new\" + 0.060*\"start\" + 0.055*\"replace\" + 0.048*\"not_replace\" + 0.042*\"per\" + 0.029*\"select\"')\n",
      "(12, '0.028*\"weapon\" + 0.019*\"use\" + 0.019*\"wear\" + 0.015*\"character\" + 0.012*\"gun\" + 0.011*\"also\" + 0.010*\"trope\" + 0.010*\"hair\" + 0.010*\"make\" + 0.009*\"look\"')\n",
      "(13, '0.042*\"song\" + 0.036*\"music\" + 0.021*\"rock\" + 0.018*\"band\" + 0.018*\"genre\" + 0.014*\"sound\" + 0.011*\"metal\" + 0.009*\"pop\" + 0.009*\"artist\" + 0.009*\"musical\"')\n",
      "(14, '0.011*\"death\" + 0.008*\"get\" + 0.008*\"may\" + 0.008*\"also\" + 0.008*\"kill\" + 0.008*\"trope\" + 0.007*\"die\" + 0.007*\"even\" + 0.007*\"life\" + 0.006*\"go\"')\n",
      "(15, '0.059*\"school\" + 0.034*\"job\" + 0.030*\"class\" + 0.028*\"student\" + 0.024*\"high\" + 0.021*\"teacher\" + 0.017*\"work\" + 0.012*\"sport\" + 0.010*\"smart\" + 0.010*\"bully\"')\n",
      "(16, '0.025*\"fight\" + 0.017*\"enemy\" + 0.017*\"attack\" + 0.016*\"boss\" + 0.014*\"battle\" + 0.014*\"one\" + 0.013*\"team\" + 0.010*\"mook\" + 0.010*\"combat\" + 0.010*\"character\"')\n",
      "(17, '0.014*\"white\" + 0.012*\"color\" + 0.012*\"also\" + 0.011*\"black\" + 0.010*\"culture\" + 0.009*\"american\" + 0.009*\"western\" + 0.009*\"often\" + 0.008*\"japanese\" + 0.008*\"eye\"')\n",
      "(18, '0.017*\"use\" + 0.010*\"see\" + 0.008*\"also\" + 0.008*\"car\" + 0.008*\"move\" + 0.007*\"camera\" + 0.007*\"effect\" + 0.007*\"object\" + 0.007*\"make\" + 0.006*\"vehicle\"')\n",
      "(19, '0.012*\"entry\" + 0.010*\"example\" + 0.009*\"may\" + 0.009*\"city\" + 0.008*\"war\" + 0.007*\"crime\" + 0.007*\"context\" + 0.007*\"allow\" + 0.007*\"often\" + 0.007*\"place\"')\n"
     ]
    }
   ],
   "source": [
    "lda_model = models.LdaModel.load('best_lda_model.model')\n",
    "\n",
    "topics = lda_model.print_topics(num_topics=20, num_words=10)\n",
    "for topic in topics:\n",
    "    print(topic)"
   ]
  },
  {
   "cell_type": "code",
   "execution_count": 16,
   "metadata": {},
   "outputs": [
    {
     "ename": "OSError",
     "evalue": "[Errno 22] Invalid argument: 'https://cdn.jsdelivr.net/gh/bmabey/pyLDAvis@3.4.0/pyLDAvis/js/ldavis.v1.0.0.css'",
     "output_type": "error",
     "traceback": [
      "\u001b[1;31m---------------------------------------------------------------------------\u001b[0m",
      "\u001b[1;31mOSError\u001b[0m                                   Traceback (most recent call last)",
      "Cell \u001b[1;32mIn[16], line 3\u001b[0m\n\u001b[0;32m      1\u001b[0m \u001b[38;5;66;03m# Visualize the topics\u001b[39;00m\n\u001b[0;32m      2\u001b[0m vis_data \u001b[38;5;241m=\u001b[39m gensimvis\u001b[38;5;241m.\u001b[39mprepare(lda_model, doc_term_matrix, dictionary, n_jobs\u001b[38;5;241m=\u001b[39m\u001b[38;5;241m1\u001b[39m)\n\u001b[1;32m----> 3\u001b[0m \u001b[43mpyLDAvis\u001b[49m\u001b[38;5;241;43m.\u001b[39;49m\u001b[43mshow\u001b[49m\u001b[43m(\u001b[49m\u001b[43mvis_data\u001b[49m\u001b[43m)\u001b[49m\n",
      "File \u001b[1;32m~\\anaconda3\\lib\\site-packages\\pyLDAvis\\_display.py:262\u001b[0m, in \u001b[0;36mshow\u001b[1;34m(data, ip, port, n_retries, local, open_browser, http_server, **kwargs)\u001b[0m\n\u001b[0;32m    259\u001b[0m     kwargs[\u001b[38;5;124m'\u001b[39m\u001b[38;5;124md3_url\u001b[39m\u001b[38;5;124m'\u001b[39m] \u001b[38;5;241m=\u001b[39m urls\u001b[38;5;241m.\u001b[39mD3_URL\n\u001b[0;32m    260\u001b[0m     kwargs[\u001b[38;5;124m'\u001b[39m\u001b[38;5;124mldavis_css_url\u001b[39m\u001b[38;5;124m'\u001b[39m] \u001b[38;5;241m=\u001b[39m urls\u001b[38;5;241m.\u001b[39mLDAVIS_CSS_URL\n\u001b[0;32m    261\u001b[0m     files \u001b[38;5;241m=\u001b[39m {\u001b[38;5;124m'\u001b[39m\u001b[38;5;124m/LDAvis.js\u001b[39m\u001b[38;5;124m'\u001b[39m: [\u001b[38;5;124m\"\u001b[39m\u001b[38;5;124mtext/javascript\u001b[39m\u001b[38;5;124m\"\u001b[39m, \u001b[38;5;28mopen\u001b[39m(urls\u001b[38;5;241m.\u001b[39mLDAVIS_LOCAL, \u001b[38;5;124m'\u001b[39m\u001b[38;5;124mr\u001b[39m\u001b[38;5;124m'\u001b[39m)\u001b[38;5;241m.\u001b[39mread()],\n\u001b[1;32m--> 262\u001b[0m              \u001b[38;5;124m'\u001b[39m\u001b[38;5;124m/LDAvis.css\u001b[39m\u001b[38;5;124m'\u001b[39m: [\u001b[38;5;124m\"\u001b[39m\u001b[38;5;124mtext/css\u001b[39m\u001b[38;5;124m\"\u001b[39m, \u001b[38;5;28;43mopen\u001b[39;49m\u001b[43m(\u001b[49m\u001b[43murls\u001b[49m\u001b[38;5;241;43m.\u001b[39;49m\u001b[43mLDAVIS_CSS_URL\u001b[49m\u001b[43m,\u001b[49m\u001b[43m \u001b[49m\u001b[38;5;124;43m'\u001b[39;49m\u001b[38;5;124;43mr\u001b[39;49m\u001b[38;5;124;43m'\u001b[39;49m\u001b[43m)\u001b[49m\u001b[38;5;241m.\u001b[39mread()],\n\u001b[0;32m    263\u001b[0m              \u001b[38;5;124m'\u001b[39m\u001b[38;5;124m/d3.js\u001b[39m\u001b[38;5;124m'\u001b[39m: [\u001b[38;5;124m\"\u001b[39m\u001b[38;5;124mtext/javascript\u001b[39m\u001b[38;5;124m\"\u001b[39m, \u001b[38;5;28mopen\u001b[39m(urls\u001b[38;5;241m.\u001b[39mD3_URL, \u001b[38;5;124m'\u001b[39m\u001b[38;5;124mr\u001b[39m\u001b[38;5;124m'\u001b[39m)\u001b[38;5;241m.\u001b[39mread()]}\n\u001b[0;32m    264\u001b[0m html \u001b[38;5;241m=\u001b[39m prepared_data_to_html(data, \u001b[38;5;241m*\u001b[39m\u001b[38;5;241m*\u001b[39mkwargs)\n\u001b[0;32m    265\u001b[0m serve(html, ip\u001b[38;5;241m=\u001b[39mip, port\u001b[38;5;241m=\u001b[39mport, n_retries\u001b[38;5;241m=\u001b[39mn_retries, files\u001b[38;5;241m=\u001b[39mfiles,\n\u001b[0;32m    266\u001b[0m       open_browser\u001b[38;5;241m=\u001b[39mopen_browser, http_server\u001b[38;5;241m=\u001b[39mhttp_server)\n",
      "\u001b[1;31mOSError\u001b[0m: [Errno 22] Invalid argument: 'https://cdn.jsdelivr.net/gh/bmabey/pyLDAvis@3.4.0/pyLDAvis/js/ldavis.v1.0.0.css'"
     ]
    }
   ],
   "source": [
    "# Visualize the topics\n",
    "vis_data = gensimvis.prepare(lda_model, doc_term_matrix, dictionary, n_jobs=1)\n",
    "pyLDAvis.show(vis_data)"
   ]
  },
  {
   "cell_type": "code",
   "execution_count": null,
   "metadata": {},
   "outputs": [],
   "source": []
  }
 ],
 "metadata": {
  "colab": {
   "authorship_tag": "ABX9TyMYKnE5dSnW+L3q+GJ1ElmL",
   "provenance": []
  },
  "kernelspec": {
   "display_name": "Python 3 (ipykernel)",
   "language": "python",
   "name": "python3"
  },
  "language_info": {
   "codemirror_mode": {
    "name": "ipython",
    "version": 3
   },
   "file_extension": ".py",
   "mimetype": "text/x-python",
   "name": "python",
   "nbconvert_exporter": "python",
   "pygments_lexer": "ipython3",
   "version": "3.9.19"
  }
 },
 "nbformat": 4,
 "nbformat_minor": 1
}
