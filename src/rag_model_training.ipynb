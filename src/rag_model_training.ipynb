{
 "cells": [
  {
   "cell_type": "markdown",
   "id": "195deb66",
   "metadata": {},
   "source": [
    "RAG System Using Llama2 With Hugging Face"
   ]
  },
  {
   "cell_type": "code",
   "execution_count": 1,
   "id": "3bef03e7",
   "metadata": {},
   "outputs": [
    {
     "name": "stdout",
     "output_type": "stream",
     "text": [
      "Requirement already satisfied: faiss-cpu in c:\\users\\jacob\\anaconda3\\lib\\site-packages (1.8.0.post1)\n",
      "Requirement already satisfied: numpy<2.0,>=1.0 in c:\\users\\jacob\\anaconda3\\lib\\site-packages (from faiss-cpu) (1.26.4)\n",
      "Requirement already satisfied: packaging in c:\\users\\jacob\\anaconda3\\lib\\site-packages (from faiss-cpu) (23.2)\n",
      "Note: you may need to restart the kernel to use updated packages.\n"
     ]
    }
   ],
   "source": [
    "pip install faiss-cpu"
   ]
  },
  {
   "cell_type": "code",
   "execution_count": 34,
   "id": "9bc64c7e",
   "metadata": {},
   "outputs": [
    {
     "name": "stderr",
     "output_type": "stream",
     "text": [
      "[nltk_data] Downloading package stopwords to\n",
      "[nltk_data]     C:\\Users\\Jacob\\AppData\\Roaming\\nltk_data...\n",
      "[nltk_data]   Package stopwords is already up-to-date!\n"
     ]
    }
   ],
   "source": [
    "import tqdm\n",
    "from tqdm import trange\n",
    "import pandas as pd\n",
    "import numpy as np\n",
    "from sentence_transformers import SentenceTransformer\n",
    "import faiss\n",
    "from transformers import LlamaTokenizer, LlamaForCausalLM\n",
    "import spacy\n",
    "import nltk\n",
    "from nltk.corpus import stopwords\n",
    "nltk.download('stopwords')\n",
    "import time"
   ]
  },
  {
   "cell_type": "code",
   "execution_count": 24,
   "id": "83cd1f7d",
   "metadata": {},
   "outputs": [],
   "source": [
    "model = SentenceTransformer('all-mpnet-base-v2')"
   ]
  },
  {
   "cell_type": "markdown",
   "id": "6dd4c9a7",
   "metadata": {},
   "source": [
    "# General Functions"
   ]
  },
  {
   "cell_type": "code",
   "execution_count": 26,
   "id": "484be90a",
   "metadata": {},
   "outputs": [],
   "source": [
    "nlp = spacy.load(\"en_core_web_sm\")\n",
    "stop_words = set(stopwords.words('english'))"
   ]
  },
  {
   "cell_type": "code",
   "execution_count": 27,
   "id": "d7cf5df3",
   "metadata": {},
   "outputs": [],
   "source": [
    "def preprocess_text(text):\n",
    "  # Lowercasing words\n",
    "  text = text.lower()\n",
    "  # Pass to lemmatizer\n",
    "  doc = nlp(text)\n",
    "  tokens = []\n",
    "\n",
    "  # process each token\n",
    "  for token in doc:\n",
    "      if token.dep_ == 'neg':\n",
    "          head = token.head.lemma_\n",
    "          neg_token = 'not_' + head\n",
    "          tokens.append(neg_token)\n",
    "      elif token.lemma_.lower() not in stop_words and token.is_alpha:\n",
    "          tokens.append(token.lemma_)\n",
    "  return tokens"
   ]
  },
  {
   "cell_type": "markdown",
   "id": "e0280945",
   "metadata": {},
   "source": [
    "# Load Data"
   ]
  },
  {
   "cell_type": "code",
   "execution_count": 35,
   "id": "bad783e2",
   "metadata": {},
   "outputs": [],
   "source": [
    "df = pd.read_csv('../results/final_data.csv')\n",
    "\n",
    "combined_data = df.apply(lambda row: f\"{row['trope_name']}: {row['trope_description']}\", axis=1)\n"
   ]
  },
  {
   "cell_type": "code",
   "execution_count": 36,
   "id": "080f7f89",
   "metadata": {},
   "outputs": [],
   "source": [
    "combined_descriptions = combined_data.tolist()\n",
    "trope_names = df['trope_name'].tolist()\n",
    "combined_descriptions = df.apply(lambda row: f\"{row['trope_name']}: {row['trope_description']}\", axis=1).tolist()\n",
    "embeddings = np.array(df['d_embedding'].apply(eval).tolist())"
   ]
  },
  {
   "cell_type": "code",
   "execution_count": 37,
   "id": "6613c967",
   "metadata": {},
   "outputs": [],
   "source": [
    "# Create and add to a FAISS index\n",
    "index = faiss.IndexFlatIP(embeddings.shape[1])\n",
    "index.add(embeddings)"
   ]
  },
  {
   "cell_type": "code",
   "execution_count": 38,
   "id": "2c3d8bcd",
   "metadata": {},
   "outputs": [],
   "source": [
    "def retrieve_trope_and_generate(query, k=5):\n",
    "    # Encode the query to match the pre-existing embeddings\n",
    "    query_clean = preprocess_text(query)\n",
    "    query_clean_flattened = ' '.join(query_clean)\n",
    "    query_embedding = model.encode([query_clean_flattened], convert_to_tensor=True).cpu().detach().numpy()\n",
    "    \n",
    "    # Search the FAISS index\n",
    "    distances, indices = index.search(query_embedding, k)\n",
    "    \n",
    "    # Retrieve the top-k relevant tropes and descriptions\n",
    "    relevant_tropes = [trope_names[i] for i in indices[0]]\n",
    "    relevant_descriptions = [combined_descriptions[i] for i in indices[0]]\n",
    "    \n",
    "    return relevant_tropes, relevant_descriptions"
   ]
  },
  {
   "cell_type": "code",
   "execution_count": 39,
   "id": "9715e8fd",
   "metadata": {},
   "outputs": [],
   "source": [
    "start_time = time.time()"
   ]
  },
  {
   "cell_type": "code",
   "execution_count": 40,
   "id": "5d57f6c6",
   "metadata": {},
   "outputs": [
    {
     "name": "stdout",
     "output_type": "stream",
     "text": [
      "Elapsed Time: 0.1846780776977539 seconds\n",
      "Trope: This Is My Boomstick\n",
      "Description: This Is My Boomstick: ['', '', '', '', 'In a God Guise or Time Travel scenario, a modern person with some technological convenience uses it to try and impress the more primitive locals. Guns and cigarette lighters are common versions, with Polaroid cameras and portable radios not far behind. Japanese fiction has a particularly ludicrous variant, where a medieval Europe analogue is introduced to such \"unbelievable technologies\" as fold-forged sabers and short-form writing systems . See also Convenient Eclipse for another way to impress the locals.', 'It\\'s almost never played straight anymore . If the time travelermodern technology to the locals, it\\'s Giving Radio to the Romans . If it\\'s done with contemporary music, it\\'s A Little Something We Call \"Rock and Roll\" . If the time traveler uses the technology to pretend to have outright supernatural powers, they\\'re a Sham Supernatural . If the natives buy it, a Cargo Cult may spring up. Has a strong overlap with Firearms Are Revolutionary , in which firearms prove to be a major game-changer when a society invents them.', 'Named for a famous line in, the thirdfilm, where the time-displaced zombie-fighting housewares stocker Ash is threatened by medieval peasants. He has a shotgun . Violent Hilarity Ensues .\\nNothing to do with an actual Boom Stick .', 'See also Mundane Object Amazement and Easily Impressed .', '']\n",
      "Trope: We Will Not Use Photoshop In The Future\n",
      "Description: We Will Not Use Photoshop In The Future: ['', '', '', '', \"In fiction, photographic and video evidence of any kind is automatically accepted as genuine and unimpeachable. If someone has some, and it shows you doing something bad, then you're screwed. The possibility that it could be digitally faked is never even considered unless the provenance of the evidence is central to the plot — and when fakeryproven, it is a great shock and surprise to all who were fooled by it.\", \"In reality, it's very difficult to fake these things digitally or otherwise when there are sufficient people checking. Not a year goes by without some fake UFO video appearing and subsequently being torn to pieces by over analyzers . Any competent effects artist or Photoshop user will tell the difference quite easily. This could potentially change in the future, however, as the technology becomes more sophisticated.\", 'Not surprisingly, this is starting to move into Discredited Trope territory as people in general become casually familiar with digital manipulation.', '']\n",
      "Trope: Technology Levels\n",
      "Description: Technology Levels: ['', '', '', '', \"In general, it's often assumed that technology starts at fire and ends at people turning into energy ; the interim would follow the exact same steps on every possible world . Often, this takes the form of people not from Earth creating exact replicas of Earth technology right down to the last detail — such as interface panels ripped right out of the Apollo missions on an alien space station. These copies are often similar enough that people who are from Earth often have no trouble at all using the device, or even interfacing their own hardware with it .\", 'Similarly, seemingly distinct and diverse technologies will always develop at the same rate. An alien world with \"Renaissance-era\" technology in firearms will also possess lenses, ships, mathematical principles and sometimes evenidentical to those of Earth (never mind the odds that an alien world would develop in a manner identical to a historical period that was a specifically European cultural phenomenon involving the rebirth and innovation of classical Greco-Roman civilization).', \"It's only rarely that a civilization will break off the path, and usually as a result of external forces providing them with something outside their capabilities (intentionally, accidentally or incidentally), such as a 1920s planet with fusion power, or a 1700s planet with radios. However, mastering this technology does not actually give them an understanding of related concepts, or even concepts which would be required to use this technology in the first place (thus averting Possession Implies Mastery ).\", \"Remember, don't think path, think, just as with the evolution of biological lifeforms. Except, in this case the distant descendants of unrelated branches can inspire and influence the future of others. For inspiring viewing, see the James Burke documentary series, which shows the sometimes ludicrously unlikely places where inspiration and discovery come from, and the web-like connections between seemingly-unrelated inventions.\", 'I, for one, can only look forward to the day that crystal-based technology paves the way for our conversion into energy .', 'See also: Enforced Technology Levels , Evolutionary Levels , In Spite of a Nail , and Tier System . Contrast Schizo Tech , Aliens Never Invented the Wheel , Sufficiently Advanced Bamboo Technology , Alternate Techline , Anachronism Stew and/or Fantasy Gun Control .', 'This has some actual reference in the real world Kardashev Scale (total energy one gets to play with, no matter). The Other Wiki used to have a list. See Abusing the Kardashev Scale for Fun and Profit for some fun speculation.', '']\n",
      "Trope: The Web Always Existed\n",
      "Description: The Web Always Existed: ['', '', '', \"You travel back in time to The Middle Ages or Hollywood Prehistory , turn on your Time Machine 's computer and... there's Google! Apparently the Web has always been there... humans just discovered how to access it in the early 1990s . This phenomenon results from filmmakers wanting to have their time-traveler show off the World Wide Boomstick without letting logic get in the way. However, anyone with a passing understanding of technology will realize that this implies the Web was always floating out there and that people just needed the right equipment to access it. ( Which, we grant you, is a pretty nifty idea for a story gimmick, but this trope more often occurs because the writers just weren't paying attention. )\", 'Another variation occurs if a time-traveler brings a TV or radio back in time and it playsshows rather than the ones that existed back then. In fact, this trope refers to pretty much any instance where a technology that clearly relies on outside input to function is placed in a situation, usually through Time Travel , where that input could not possibly exist and it.', \"This could technically happen in real life, assuming time travel is possible. However, it would require the machine's owner to not clear its history and all the files downloaded from the website in question. The computer obviously would not be able to get to anywhere on the Internet it had not stored. And of course it would require a source of electricity, if you go back far enough. Alternately, if communications between the two times are available, you could theoretically route the Internet through such a link - the computer in the past would call a computer in the present and ask for the page, and the computer in the present would deliver it back. The lag would probably suck, though.\", 'But with the advent of really big hard drive spaces (A few terabytes would be sufficient to get a good portion of The Other Wiki , for starters), one could conceivably download big, giant portions of the internet that is relevant and bring it back through time for later access. Of course, you must be pretty darn Crazy-Prepared if you actually do this in the first place.', '(Of course, the Doctor could make a cell phone call through time, so theoretically...)', 'Contrast Sudden Lack of Signal , in which technology logically fails to work in a different time or world, and Super Cell Reception , in which technology works implausibly well in unusual circumstances.']\n",
      "Trope: I Want My Jet Pack\n",
      "Description: I Want My Jet Pack: ['', '', \"Trope was declared Administrivia/NoRealLifeExamplesPlease via crowner by the Real Life Maintenance thread:   kept on page per IP thread: tvtropes.org/pmwiki/posts.php?discussion=1521357342091943100Please do not replace or remove without starting a new thread.&#010;\", '', 'Speculative Fiction always seems to think that the future is going to be a lot more flashy and interesting than it actually turns out to be.was supposed to give us lunar and undersea colonies, holographic radios, holographic movies, autodrying jackets, autolacing shoes, accurate-to-the-second weather reports, weather-control, hoverboards, lifelike androids, virtual reality, flying cars , food pills , robot buddies , laser weapons and most importantly, Jet Packs !', \"We've gotten a lot of cool stuff since the Turn of the Millennium .But it's mostly not the cool stuff we were promised.\", 'Ultimately, a lot of sci-fi works have not only fallen victim to Zeerust , but done so while only being set 20 Minutes into the Future ; many sci-fi tropes are still in popular consciousness in the present day, even though many of the works using them were supposed to be set in a \"future\" time period that has nowthe present day. Thus we get the trope of people complaining about the lack of cool sci-fi in the present day. \"This is the future? Where are the food cubes? Where are all the phaser guns? Where\\'s the flying cars? I Want My Jet Pack !\"', \"This trope is largely a result of changing technological trends. Much of our classic sci-fi technology is ultimately rooted in the Jet Age, with its Cold War-driven focus on spacecraft and industrial gadgetry. Instead, technology turned more towards miniaturised computers and consumer electronics, and so much of today's speculative fiction now envisions a future full of nano-computers, neural networks, implausible user-interfaces, and so forth , while cars remain firmly on solid ground; but it may very well be that these visions of the future will turn out just as accurate as the old ones. After all, Moore's Law being on its deathbed while nanotechnology and Artificial Intelligence still being far from as powerful as sci-fi authors promised they'd be certainly isn't helping their case.\", \"This is also a side-effect of Sci-Fi Writers Have No Sense of Scale . It's very easy to imagine fantastic tools that solve a dozen of today's problems at once, or combine features of two or more unrelated present-day artifacts. It's harder to do the math on how much they would cost to build, the power input they would need to be used regularly, or the cost and potential side problems when released to the general market. Even if it could feasibly be made a reality, some ideas just aren't worth it without Acceptable Breaks from Reality . As a matter of fact, jetpacks have been a reality since the 1960s, and can even be bought today. The bad news is, they're pretty unimpressive.\", \"A variant of this trope is when a Fish out of Temporal Water complains about the lack of sci-fi (or whatever their original time promised the time they're currently in would be like).\", 'This trope is essentially the in-universe version of Failed Future Forecast , and refers to characters complaining about how unimpressive the present-day is compared to past speculation when today\\'s world was still The Future. It is named for the punchline to Leo\\'s rant in an episode ofall about how we didn\\'t get the future we were promised. Also summed up in the Tom Smith  Filk Song  \"I Want My Flying Car.\"']\n"
     ]
    }
   ],
   "source": [
    "trope_results, descriptions = retrieve_trope_and_generate(\" Technology in this world is a bit more advanced than our own; hologram projectors are small and cheap enough to be handed out with magazines à la CD-ROM demos and in an omake, Mt. Lady mentions 8K television.note  This is eventually subverted as culturally, it's played straight, but only because Midoriya notes at one point that when Quirks first appeared, human culture was thrown into such an uproar that culture and technology regressed. He says that if Quirks hadn't appeared, humans would be taking interstellar holidays at that point in history. It's also confirmed to have been at least eight or nine generations since Quirks first developed, which is an unspecified amount of time in the future from the present day.\")\n",
    "end_time = time.time()\n",
    "elapsed_time = end_time - start_time\n",
    "print(f\"Elapsed Time: {elapsed_time} seconds\")\n",
    "for trope, desc in zip(trope_results, descriptions):\n",
    "    print(f\"Trope: {trope}\\nDescription: {desc}\")"
   ]
  },
  {
   "cell_type": "code",
   "execution_count": 41,
   "id": "0c7d232a",
   "metadata": {},
   "outputs": [],
   "source": [
    "start_time = time.time()"
   ]
  },
  {
   "cell_type": "code",
   "execution_count": 42,
   "id": "cbf528f4",
   "metadata": {},
   "outputs": [
    {
     "name": "stdout",
     "output_type": "stream",
     "text": [
      "Elapsed Time: 0.10310506820678711 seconds\n",
      "Trope: Wax On Wax Off\n",
      "Description: Wax On Wax Off: ['', '', \"&#010;:  don't change or remove without starting a new thread.&#010;&#010;\", '', \"An odd form of training passed off by an unorthodox master on a skeptical student. Sometimes comes disguised as a set of chores, but just as often is a general exercise that promotes a valuable physical or mental attribute in a strange way. Always dismissed as a waste of time early on, but appreciated later . Often, this also serves as a lesson to the skeptical student to trust the master and do all the crazy things the master asks without questioning, by demonstrating that the master really knows what he's doing and is in fact effectively teaching the student.\", 'May be time-compressed in a Training Montage or Hard-Work Montage . This is an integral part of Improvised Training , due to the low cost involved.', \"It's commonly subverted or parodied when a mildly Genre Savvy hero initially assumes he is receiving valuable training, only to realize that he is just being made to do  his sensei's chores . Double Subverted if the sensei tells him that this realizationthe valuable lesson.\", \"Realistically, all forms of training require repetition, persistence and discipline , so this is decidedly Truth in Television . The functionality has limitations though, as situational instincts applicable to the actual goals matter just as much as the physical conditioning. So while this can be an effective training method regarding strength and muscle memory, it's no substitute for the practical training which will inevitably follow.\", 'The trope is named for its most famous example, Mr. Miyagi training Danielinby, among other things, waxing a small fleet of cars, sanding the walkways of his garden, and painting his house. Subsequent uses of the trope might reference this phrase or scene .', \"Compare Training from Hell , Taught by Experience , I Know Mortal Kombat , Chekhov's Skill . May also double as a form of Physical Fitness Punishment . When the mundane task comes at the end of training, it's When You Snatch the Pebble , and often Look What I Can Do Now! . The teacher is often a Magical Asian or an Old Master . Compare to Fence Painting and contrast with Mooching Master , where the teacher is more concerned with getting free labor out of disciples rather than training them. Sometimes combined with Imposed Handicap Training . Properly executed, itends up being Worth It .\", 'Not to be confused with Martial Arts for Mundane Purposes , when a skilled martial artist uses their skills for something other than fighting.']\n",
      "Trope: Team Spirit\n",
      "Description: Team Spirit: ['', '', 'Image moved here from  per Image Pickin\\' thread: Please .', '', 'On shows where the main characters are grouped together , they realize they can only achieve goals ranging from winning games to defeating monsters or other enemies through teamwork .', 'A useful lesson , one supposes. It might be nice, however, to occasionally see a Too Many Cooks Spoil the Soup episode.', 'Also see The Power of Friendship , Save Our Team , Together We Are X .', 'Contrast I Work Alone , where they dismiss the very idea of teamwork, and Teeth-Clenched Teamwork , where characters invoke this trope but hate every moment of it.', '']\n",
      "Trope: Face Nod Action\n",
      "Description: Face Nod Action: ['', '', \":  don't change or remove without starting a new thread.&#010;\", '', 'Two or more characters are put in a situation where they need to work together. After silently assessing the situation:', 'Sometimes coupled with Hand Signals inserted, with the \"nod\" being the cue to execute. If there is a plan involved, it\\'s often unspoken beforehand (especially if silence is a necessity), or else it\\'s an Indy Ploy (if improvisation is the only option).', 'It often works as an unspoken version of You Know What to Do . Compare Meaningful Look . See also Badass Minds Think Alike .', '']\n",
      "Trope: Subterfuge Judo\n",
      "Description: Subterfuge Judo: ['', '', \"Subterfuge is when a true intention is hidden by another reason or action; though, two parties may each have an intention they want to see through to completion. The opposing party to those serving the imposition, of course, want to prevent that or somehow get them off their back. They can't just say no or yes, though, depending on what the other wants, because things could get messy.\", \"Much like Politeness Judo , where one of the two parties will politely trick the other into doing something they don't want to, this is Subterfuge Judo, where this can go one of two ways:\", '', '', \"The two parties' intentions may not necessarily be polite, but neither side wants to be so blunt about rejecting, such that the situation gets out of hand, because they may lose control, their (the imposer's) only chance to get what they want, or (for those who are being imposed-on) someone could get hurt or killed.\", 'In short, it\\'s a \"Through gritted teeth, one of ushave our way, and neither of us are backing down\" situation, and neither will take the hint that the other is trying to convey.', 'If one side is especially sensitive, and they realize that the other is performing Subterfuge Judo to get out of their control (or attempt to defuse the situation), it may serve to anger the imposer, drop the polite act altogether, and make a mountain out of a molehill.', \"Other times, one person will be too stubborn to even inflict Subterfuge Judo on, set on a one-track mind, just because they can, or just because they have leverage that they wouldn't have otherwise.\", \"Rarely, the knowledge involvedbe one sided, because the first party is trying to prevent the second party from finding or discovering something that puts the first in a bad light, and the second brushes the first's reasoning off as no big deal. (for example, the first party is trying to hide the fact that they broke something valuable to the second, and yet the second party continues, or insists, on getting closer and closer to a possible action or place, where they will discover it.)\", \"Compare Politeness Judo , where it's this trope, but is more-or-less one-sided. Also Compare That Wasn't a Request or Euphemism Buster , where, again, one side will just dispense altogether with the pleasantries. (Sometimes either or even both tropes will even be entangled with the Judo) See Comically Missing the Point when one of them doesn't follow the thread of conflict between the two parties, and Dramatically Missing the Point , where the person may similarly (and vocally) ignore any attempts at subterfuge. If one party's Subterfuge Judo is good enough, it may back the other party into a corner such that there is no escape. If such, or if the situation is that desperate, the party who is on the worse receiving end of the imposition may be Ain't Too Proud to Beg .\", '']\n",
      "Trope: Teach Me How To Fight\n",
      "Description: Teach Me How To Fight: ['', '', '&#010;&#010;The examples section has been alphabetized. Please add new examples in the correct place in accordance with Administrivia/HowToAlphabetizeThings.&#010;&#010;', 'This is a point in a story where one of the characters, usually an Action Survivor , feels a need to take action against the Big Bad .', \"The problem is, they can't fight.\", \"Cue The Protagonist going to a trusted friend who can, and asking to be taught. They agree, but although the two are on friendly terms, the training is anything but easy. It's sometimes even Training from Hell but the protagonist takes a level in badass by the end of it. Cue Look What I Can Do Now! .\", 'Note that they actually have to']\n"
     ]
    }
   ],
   "source": [
    "trope_results, descriptions = retrieve_trope_and_generate(\"At two points in the story, U.A agrees to have joint training sessions with Shiketsu and Ketsubutsu, but we never get to see this actually happening or if it even happened to begin with.\")\n",
    "end_time = time.time()\n",
    "elapsed_time = end_time - start_time\n",
    "print(f\"Elapsed Time: {elapsed_time} seconds\")\n",
    "for trope, desc in zip(trope_results, descriptions):\n",
    "    print(f\"Trope: {trope}\\nDescription: {desc}\")"
   ]
  },
  {
   "cell_type": "code",
   "execution_count": null,
   "id": "dcfc80c1",
   "metadata": {},
   "outputs": [],
   "source": []
  }
 ],
 "metadata": {
  "kernelspec": {
   "display_name": "Python 3 (ipykernel)",
   "language": "python",
   "name": "python3"
  },
  "language_info": {
   "codemirror_mode": {
    "name": "ipython",
    "version": 3
   },
   "file_extension": ".py",
   "mimetype": "text/x-python",
   "name": "python",
   "nbconvert_exporter": "python",
   "pygments_lexer": "ipython3",
   "version": "3.9.19"
  }
 },
 "nbformat": 4,
 "nbformat_minor": 5
}
