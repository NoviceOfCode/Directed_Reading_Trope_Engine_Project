{
 "cells": [
  {
   "cell_type": "code",
   "execution_count": 1,
   "id": "7158a408",
   "metadata": {},
   "outputs": [],
   "source": [
    "import pandas as pd\n",
    "import numpy as np\n",
    "import ast"
   ]
  },
  {
   "cell_type": "code",
   "execution_count": 2,
   "id": "fcb6b7ce",
   "metadata": {},
   "outputs": [],
   "source": [
    "columns_to_load = ['trope_name', 'example_descriptions']\n",
    "df = pd.read_csv(\"../data_raw/parsed_tropes.csv\", usecols=columns_to_load, converters={\n",
    "    'example_descriptions': (ast.literal_eval)\n",
    "})"
   ]
  },
  {
   "cell_type": "code",
   "execution_count": 3,
   "id": "418076dd",
   "metadata": {},
   "outputs": [
    {
     "data": {
      "text/html": [
       "<div>\n",
       "<style scoped>\n",
       "    .dataframe tbody tr th:only-of-type {\n",
       "        vertical-align: middle;\n",
       "    }\n",
       "\n",
       "    .dataframe tbody tr th {\n",
       "        vertical-align: top;\n",
       "    }\n",
       "\n",
       "    .dataframe thead th {\n",
       "        text-align: right;\n",
       "    }\n",
       "</style>\n",
       "<table border=\"1\" class=\"dataframe\">\n",
       "  <thead>\n",
       "    <tr style=\"text-align: right;\">\n",
       "      <th></th>\n",
       "      <th>trope_name</th>\n",
       "      <th>example_descriptions</th>\n",
       "    </tr>\n",
       "  </thead>\n",
       "  <tbody>\n",
       "    <tr>\n",
       "      <th>0</th>\n",
       "      <td>Aardvark Trunks</td>\n",
       "      <td>[Princess Tutu : Anteaterina's snout is rather...</td>\n",
       "    </tr>\n",
       "    <tr>\n",
       "      <th>1</th>\n",
       "      <td>Abandoned Area</td>\n",
       "      <td>[MD Geist has plenty of these areas on Planet ...</td>\n",
       "    </tr>\n",
       "    <tr>\n",
       "      <th>2</th>\n",
       "      <td>Abandoned Camp Ruins</td>\n",
       "      <td>[Quizzical : From Chapter 4, \"Heavy Traffic In...</td>\n",
       "    </tr>\n",
       "    <tr>\n",
       "      <th>3</th>\n",
       "      <td>Abandoned Catchphrase</td>\n",
       "      <td>[Birdie the Early Bird of McDonaldland had a t...</td>\n",
       "    </tr>\n",
       "    <tr>\n",
       "      <th>4</th>\n",
       "      <td>Abandoned Hospital</td>\n",
       "      <td>[The 6th episode of Bleach was set in an aband...</td>\n",
       "    </tr>\n",
       "  </tbody>\n",
       "</table>\n",
       "</div>"
      ],
      "text/plain": [
       "              trope_name                               example_descriptions\n",
       "0        Aardvark Trunks  [Princess Tutu : Anteaterina's snout is rather...\n",
       "1         Abandoned Area  [MD Geist has plenty of these areas on Planet ...\n",
       "2   Abandoned Camp Ruins  [Quizzical : From Chapter 4, \"Heavy Traffic In...\n",
       "3  Abandoned Catchphrase  [Birdie the Early Bird of McDonaldland had a t...\n",
       "4     Abandoned Hospital  [The 6th episode of Bleach was set in an aband..."
      ]
     },
     "execution_count": 3,
     "metadata": {},
     "output_type": "execute_result"
    }
   ],
   "source": [
    "df.head()"
   ]
  },
  {
   "cell_type": "code",
   "execution_count": 4,
   "id": "6cfb39f6",
   "metadata": {},
   "outputs": [
    {
     "name": "stdout",
     "output_type": "stream",
     "text": [
      "<class 'pandas.core.frame.DataFrame'>\n",
      "RangeIndex: 29903 entries, 0 to 29902\n",
      "Data columns (total 2 columns):\n",
      " #   Column                Non-Null Count  Dtype \n",
      "---  ------                --------------  ----- \n",
      " 0   trope_name            29903 non-null  object\n",
      " 1   example_descriptions  29903 non-null  object\n",
      "dtypes: object(2)\n",
      "memory usage: 467.4+ KB\n"
     ]
    }
   ],
   "source": [
    "df.info()"
   ]
  },
  {
   "cell_type": "code",
   "execution_count": 5,
   "id": "2ac015f0",
   "metadata": {},
   "outputs": [],
   "source": [
    "filtered_df = df[df['example_descriptions'].apply(lambda x: len(x) > 0)]"
   ]
  },
  {
   "cell_type": "code",
   "execution_count": 6,
   "id": "2e56167f",
   "metadata": {},
   "outputs": [
    {
     "name": "stdout",
     "output_type": "stream",
     "text": [
      "<class 'pandas.core.frame.DataFrame'>\n",
      "Index: 26677 entries, 0 to 29902\n",
      "Data columns (total 2 columns):\n",
      " #   Column                Non-Null Count  Dtype \n",
      "---  ------                --------------  ----- \n",
      " 0   trope_name            26677 non-null  object\n",
      " 1   example_descriptions  26677 non-null  object\n",
      "dtypes: object(2)\n",
      "memory usage: 625.2+ KB\n"
     ]
    }
   ],
   "source": [
    "filtered_df.info()"
   ]
  },
  {
   "cell_type": "code",
   "execution_count": 7,
   "id": "2fb291a0",
   "metadata": {},
   "outputs": [],
   "source": [
    "num_random_tropes = 2667\n",
    "random_rows = filtered_df.sample(n=num_random_tropes)"
   ]
  },
  {
   "cell_type": "code",
   "execution_count": 8,
   "id": "fb2ba19c",
   "metadata": {},
   "outputs": [
    {
     "data": {
      "text/html": [
       "<div>\n",
       "<style scoped>\n",
       "    .dataframe tbody tr th:only-of-type {\n",
       "        vertical-align: middle;\n",
       "    }\n",
       "\n",
       "    .dataframe tbody tr th {\n",
       "        vertical-align: top;\n",
       "    }\n",
       "\n",
       "    .dataframe thead th {\n",
       "        text-align: right;\n",
       "    }\n",
       "</style>\n",
       "<table border=\"1\" class=\"dataframe\">\n",
       "  <thead>\n",
       "    <tr style=\"text-align: right;\">\n",
       "      <th></th>\n",
       "      <th>trope_name</th>\n",
       "      <th>example_descriptions</th>\n",
       "    </tr>\n",
       "  </thead>\n",
       "  <tbody>\n",
       "    <tr>\n",
       "      <th>17269</th>\n",
       "      <td>Nobody Calls Me Chicken</td>\n",
       "      <td>[Vegeta in Dragon Ball Z is goaded by Cell int...</td>\n",
       "    </tr>\n",
       "    <tr>\n",
       "      <th>2212</th>\n",
       "      <td>Bathroom Stall Of Angst</td>\n",
       "      <td>[During a flashback in Ojojojo , Haru went to ...</td>\n",
       "    </tr>\n",
       "    <tr>\n",
       "      <th>22780</th>\n",
       "      <td>Shouldnt We Be In School Right Now</td>\n",
       "      <td>[Yu-Gi-Oh! (in the manga, at least): The two m...</td>\n",
       "    </tr>\n",
       "    <tr>\n",
       "      <th>5123</th>\n",
       "      <td>Corrupted Contingency</td>\n",
       "      <td>[The Authority :, The G7 cabal who gave Seth h...</td>\n",
       "    </tr>\n",
       "    <tr>\n",
       "      <th>14734</th>\n",
       "      <td>Locked Door</td>\n",
       "      <td>[In ANNO: Mutationem , most areas have a locke...</td>\n",
       "    </tr>\n",
       "  </tbody>\n",
       "</table>\n",
       "</div>"
      ],
      "text/plain": [
       "                               trope_name  \\\n",
       "17269             Nobody Calls Me Chicken   \n",
       "2212              Bathroom Stall Of Angst   \n",
       "22780  Shouldnt We Be In School Right Now   \n",
       "5123                Corrupted Contingency   \n",
       "14734                         Locked Door   \n",
       "\n",
       "                                    example_descriptions  \n",
       "17269  [Vegeta in Dragon Ball Z is goaded by Cell int...  \n",
       "2212   [During a flashback in Ojojojo , Haru went to ...  \n",
       "22780  [Yu-Gi-Oh! (in the manga, at least): The two m...  \n",
       "5123   [The Authority :, The G7 cabal who gave Seth h...  \n",
       "14734  [In ANNO: Mutationem , most areas have a locke...  "
      ]
     },
     "execution_count": 8,
     "metadata": {},
     "output_type": "execute_result"
    }
   ],
   "source": [
    "random_rows.head()"
   ]
  },
  {
   "cell_type": "code",
   "execution_count": 9,
   "id": "fcd5a899",
   "metadata": {},
   "outputs": [
    {
     "name": "stdout",
     "output_type": "stream",
     "text": [
      "<class 'pandas.core.frame.DataFrame'>\n",
      "Index: 2667 entries, 17269 to 23882\n",
      "Data columns (total 2 columns):\n",
      " #   Column                Non-Null Count  Dtype \n",
      "---  ------                --------------  ----- \n",
      " 0   trope_name            2667 non-null   object\n",
      " 1   example_descriptions  2667 non-null   object\n",
      "dtypes: object(2)\n",
      "memory usage: 62.5+ KB\n"
     ]
    }
   ],
   "source": [
    "random_rows.info()"
   ]
  },
  {
   "cell_type": "code",
   "execution_count": 10,
   "id": "e343b36c",
   "metadata": {},
   "outputs": [],
   "source": [
    "#Expanding the rows\n",
    "expanded_df = random_rows.explode('example_descriptions')"
   ]
  },
  {
   "cell_type": "code",
   "execution_count": 11,
   "id": "a6259092",
   "metadata": {},
   "outputs": [
    {
     "data": {
      "text/html": [
       "<div>\n",
       "<style scoped>\n",
       "    .dataframe tbody tr th:only-of-type {\n",
       "        vertical-align: middle;\n",
       "    }\n",
       "\n",
       "    .dataframe tbody tr th {\n",
       "        vertical-align: top;\n",
       "    }\n",
       "\n",
       "    .dataframe thead th {\n",
       "        text-align: right;\n",
       "    }\n",
       "</style>\n",
       "<table border=\"1\" class=\"dataframe\">\n",
       "  <thead>\n",
       "    <tr style=\"text-align: right;\">\n",
       "      <th></th>\n",
       "      <th>trope_name</th>\n",
       "      <th>example_descriptions</th>\n",
       "    </tr>\n",
       "  </thead>\n",
       "  <tbody>\n",
       "    <tr>\n",
       "      <th>17269</th>\n",
       "      <td>Nobody Calls Me Chicken</td>\n",
       "      <td>Vegeta in Dragon Ball Z is goaded by Cell into...</td>\n",
       "    </tr>\n",
       "    <tr>\n",
       "      <th>17269</th>\n",
       "      <td>Nobody Calls Me Chicken</td>\n",
       "      <td>In Eyeshield 21 , after Leonard Apollo arrogan...</td>\n",
       "    </tr>\n",
       "    <tr>\n",
       "      <th>17269</th>\n",
       "      <td>Nobody Calls Me Chicken</td>\n",
       "      <td>Food Wars! : Soma provokes Etsuya Eizan into c...</td>\n",
       "    </tr>\n",
       "    <tr>\n",
       "      <th>17269</th>\n",
       "      <td>Nobody Calls Me Chicken</td>\n",
       "      <td>During the climax of JoJo's Bizarre Adventure:...</td>\n",
       "    </tr>\n",
       "    <tr>\n",
       "      <th>17269</th>\n",
       "      <td>Nobody Calls Me Chicken</td>\n",
       "      <td>The titular character of Kenichi: The Mighties...</td>\n",
       "    </tr>\n",
       "  </tbody>\n",
       "</table>\n",
       "</div>"
      ],
      "text/plain": [
       "                    trope_name  \\\n",
       "17269  Nobody Calls Me Chicken   \n",
       "17269  Nobody Calls Me Chicken   \n",
       "17269  Nobody Calls Me Chicken   \n",
       "17269  Nobody Calls Me Chicken   \n",
       "17269  Nobody Calls Me Chicken   \n",
       "\n",
       "                                    example_descriptions  \n",
       "17269  Vegeta in Dragon Ball Z is goaded by Cell into...  \n",
       "17269  In Eyeshield 21 , after Leonard Apollo arrogan...  \n",
       "17269  Food Wars! : Soma provokes Etsuya Eizan into c...  \n",
       "17269  During the climax of JoJo's Bizarre Adventure:...  \n",
       "17269  The titular character of Kenichi: The Mighties...  "
      ]
     },
     "execution_count": 11,
     "metadata": {},
     "output_type": "execute_result"
    }
   ],
   "source": [
    "expanded_df.head()"
   ]
  },
  {
   "cell_type": "code",
   "execution_count": null,
   "id": "009c43bc",
   "metadata": {},
   "outputs": [],
   "source": []
  },
  {
   "cell_type": "code",
   "execution_count": 12,
   "id": "8781f867",
   "metadata": {
    "scrolled": true
   },
   "outputs": [
    {
     "name": "stdout",
     "output_type": "stream",
     "text": [
      "<class 'pandas.core.frame.DataFrame'>\n",
      "Index: 349391 entries, 17269 to 23882\n",
      "Data columns (total 2 columns):\n",
      " #   Column                Non-Null Count   Dtype \n",
      "---  ------                --------------   ----- \n",
      " 0   trope_name            349391 non-null  object\n",
      " 1   example_descriptions  349391 non-null  object\n",
      "dtypes: object(2)\n",
      "memory usage: 8.0+ MB\n"
     ]
    }
   ],
   "source": [
    "expanded_df.info()"
   ]
  },
  {
   "cell_type": "code",
   "execution_count": 14,
   "id": "f9405949",
   "metadata": {},
   "outputs": [],
   "source": [
    "expanded_df.to_csv('../data_raw/parsed_tropes_random_examples.csv', index=False, sep='\\t', quoting=1)"
   ]
  },
  {
   "cell_type": "code",
   "execution_count": 17,
   "id": "96b14e2d",
   "metadata": {},
   "outputs": [],
   "source": [
    "df_examples = pd.read_csv('../data_raw/parsed_tropes_random_examples.csv', delimiter='\\t', quoting=1)"
   ]
  },
  {
   "cell_type": "code",
   "execution_count": 18,
   "id": "7a590db6",
   "metadata": {},
   "outputs": [
    {
     "name": "stdout",
     "output_type": "stream",
     "text": [
      "<class 'pandas.core.frame.DataFrame'>\n",
      "RangeIndex: 349391 entries, 0 to 349390\n",
      "Data columns (total 2 columns):\n",
      " #   Column                Non-Null Count   Dtype \n",
      "---  ------                --------------   ----- \n",
      " 0   trope_name            349391 non-null  object\n",
      " 1   example_descriptions  349023 non-null  object\n",
      "dtypes: object(2)\n",
      "memory usage: 5.3+ MB\n"
     ]
    }
   ],
   "source": [
    "df_examples.info()"
   ]
  },
  {
   "cell_type": "code",
   "execution_count": null,
   "id": "e6dc5ddc",
   "metadata": {},
   "outputs": [],
   "source": []
  }
 ],
 "metadata": {
  "kernelspec": {
   "display_name": "Python 3 (ipykernel)",
   "language": "python",
   "name": "python3"
  },
  "language_info": {
   "codemirror_mode": {
    "name": "ipython",
    "version": 3
   },
   "file_extension": ".py",
   "mimetype": "text/x-python",
   "name": "python",
   "nbconvert_exporter": "python",
   "pygments_lexer": "ipython3",
   "version": "3.9.19"
  }
 },
 "nbformat": 4,
 "nbformat_minor": 5
}
