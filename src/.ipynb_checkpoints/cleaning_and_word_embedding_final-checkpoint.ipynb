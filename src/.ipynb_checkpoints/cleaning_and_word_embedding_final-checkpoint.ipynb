{
 "cells": [
  {
   "cell_type": "markdown",
   "metadata": {
    "id": "v5S7Cihy01ew"
   },
   "source": [
    "# Imports"
   ]
  },
  {
   "cell_type": "code",
   "execution_count": 1,
   "metadata": {
    "colab": {
     "base_uri": "https://localhost:8080/"
    },
    "id": "tZfm6KmE0uts",
    "outputId": "9657b1d4-368c-4d0c-f66f-4c0d510d4bf2"
   },
   "outputs": [
    {
     "name": "stdout",
     "output_type": "stream",
     "text": [
      "Requirement already satisfied: sentence-transformers in c:\\users\\jacob\\anaconda3\\lib\\site-packages (3.0.1)\n",
      "Requirement already satisfied: transformers<5.0.0,>=4.34.0 in c:\\users\\jacob\\anaconda3\\lib\\site-packages (from sentence-transformers) (4.40.1)\n",
      "Requirement already satisfied: tqdm in c:\\users\\jacob\\anaconda3\\lib\\site-packages (from sentence-transformers) (4.66.5)\n",
      "Requirement already satisfied: torch>=1.11.0 in c:\\users\\jacob\\anaconda3\\lib\\site-packages (from sentence-transformers) (2.0.1)\n",
      "Requirement already satisfied: numpy in c:\\users\\jacob\\anaconda3\\lib\\site-packages (from sentence-transformers) (1.26.4)\n",
      "Requirement already satisfied: scikit-learn in c:\\users\\jacob\\anaconda3\\lib\\site-packages (from sentence-transformers) (1.4.2)\n",
      "Requirement already satisfied: scipy in c:\\users\\jacob\\anaconda3\\lib\\site-packages (from sentence-transformers) (1.13.1)\n",
      "Requirement already satisfied: huggingface-hub>=0.15.1 in c:\\users\\jacob\\anaconda3\\lib\\site-packages (from sentence-transformers) (0.22.2)\n",
      "Requirement already satisfied: Pillow in c:\\users\\jacob\\anaconda3\\lib\\site-packages (from sentence-transformers) (10.2.0)\n",
      "Requirement already satisfied: filelock in c:\\users\\jacob\\anaconda3\\lib\\site-packages (from huggingface-hub>=0.15.1->sentence-transformers) (3.13.1)\n",
      "Requirement already satisfied: fsspec>=2023.5.0 in c:\\users\\jacob\\anaconda3\\lib\\site-packages (from huggingface-hub>=0.15.1->sentence-transformers) (2024.3.1)\n",
      "Requirement already satisfied: packaging>=20.9 in c:\\users\\jacob\\anaconda3\\lib\\site-packages (from huggingface-hub>=0.15.1->sentence-transformers) (23.2)\n",
      "Requirement already satisfied: pyyaml>=5.1 in c:\\users\\jacob\\anaconda3\\lib\\site-packages (from huggingface-hub>=0.15.1->sentence-transformers) (6.0.1)\n",
      "Requirement already satisfied: requests in c:\\users\\jacob\\anaconda3\\lib\\site-packages (from huggingface-hub>=0.15.1->sentence-transformers) (2.31.0)\n",
      "Requirement already satisfied: typing-extensions>=3.7.4.3 in c:\\users\\jacob\\anaconda3\\lib\\site-packages (from huggingface-hub>=0.15.1->sentence-transformers) (4.12.2)\n",
      "Requirement already satisfied: sympy in c:\\users\\jacob\\anaconda3\\lib\\site-packages (from torch>=1.11.0->sentence-transformers) (1.10.1)\n",
      "Requirement already satisfied: networkx in c:\\users\\jacob\\anaconda3\\lib\\site-packages (from torch>=1.11.0->sentence-transformers) (3.2.1)\n",
      "Requirement already satisfied: jinja2 in c:\\users\\jacob\\anaconda3\\lib\\site-packages (from torch>=1.11.0->sentence-transformers) (2.11.3)\n",
      "Requirement already satisfied: colorama in c:\\users\\jacob\\anaconda3\\lib\\site-packages (from tqdm->sentence-transformers) (0.4.6)\n",
      "Requirement already satisfied: regex!=2019.12.17 in c:\\users\\jacob\\anaconda3\\lib\\site-packages (from transformers<5.0.0,>=4.34.0->sentence-transformers) (2022.7.9)\n",
      "Requirement already satisfied: tokenizers<0.20,>=0.19 in c:\\users\\jacob\\anaconda3\\lib\\site-packages (from transformers<5.0.0,>=4.34.0->sentence-transformers) (0.19.1)\n",
      "Requirement already satisfied: safetensors>=0.4.1 in c:\\users\\jacob\\anaconda3\\lib\\site-packages (from transformers<5.0.0,>=4.34.0->sentence-transformers) (0.4.3)\n",
      "Requirement already satisfied: joblib>=1.2.0 in c:\\users\\jacob\\anaconda3\\lib\\site-packages (from scikit-learn->sentence-transformers) (1.4.2)\n",
      "Requirement already satisfied: threadpoolctl>=2.0.0 in c:\\users\\jacob\\anaconda3\\lib\\site-packages (from scikit-learn->sentence-transformers) (2.2.0)\n",
      "Requirement already satisfied: MarkupSafe>=0.23 in c:\\users\\jacob\\anaconda3\\lib\\site-packages (from jinja2->torch>=1.11.0->sentence-transformers) (2.0.1)\n",
      "Requirement already satisfied: charset-normalizer<4,>=2 in c:\\users\\jacob\\anaconda3\\lib\\site-packages (from requests->huggingface-hub>=0.15.1->sentence-transformers) (2.0.4)\n",
      "Requirement already satisfied: idna<4,>=2.5 in c:\\users\\jacob\\anaconda3\\lib\\site-packages (from requests->huggingface-hub>=0.15.1->sentence-transformers) (3.4)\n",
      "Requirement already satisfied: urllib3<3,>=1.21.1 in c:\\users\\jacob\\anaconda3\\lib\\site-packages (from requests->huggingface-hub>=0.15.1->sentence-transformers) (1.26.6)\n",
      "Requirement already satisfied: certifi>=2017.4.17 in c:\\users\\jacob\\anaconda3\\lib\\site-packages (from requests->huggingface-hub>=0.15.1->sentence-transformers) (2024.2.2)\n",
      "Requirement already satisfied: mpmath>=0.19 in c:\\users\\jacob\\anaconda3\\lib\\site-packages (from sympy->torch>=1.11.0->sentence-transformers) (1.2.1)\n",
      "Note: you may need to restart the kernel to use updated packages.\n"
     ]
    }
   ],
   "source": [
    "pip install sentence-transformers"
   ]
  },
  {
   "cell_type": "code",
   "execution_count": null,
   "metadata": {
    "colab": {
     "base_uri": "https://localhost:8080/"
    },
    "id": "w_rSzU9905nI",
    "outputId": "8ef2bd21-00bd-4972-8c80-894e260acba9"
   },
   "outputs": [],
   "source": [
    "from sentence_transformers import SentenceTransformer\n",
    "import pandas as pd\n",
    "import numpy as np\n",
    "from scipy.spatial.distance import cosine\n",
    "import nltk\n",
    "from nltk.tokenize import word_tokenize\n",
    "from nltk.corpus import stopwords\n",
    "nltk.download('punkt')\n",
    "nltk.download('stopwords')\n",
    "nltk.download('wordnet')\n",
    "import re\n",
    "from typing import List\n",
    "import string\n",
    "import spacy\n",
    "import ast\n",
    "from sklearn.feature_extraction.text import CountVectorizer, TfidfVectorizer\n",
    "from sklearn.preprocessing import normalize\n"
   ]
  },
  {
   "cell_type": "code",
   "execution_count": null,
   "metadata": {
    "id": "45BjAMzK16mh"
   },
   "outputs": [],
   "source": [
    "df = pd.read_csv('../data_raw/parsed_tropes.csv')"
   ]
  },
  {
   "cell_type": "code",
   "execution_count": null,
   "metadata": {
    "colab": {
     "base_uri": "https://localhost:8080/"
    },
    "id": "wJvd_45YuXe3",
    "outputId": "6fbefa80-ee50-48e2-8b83-91a0629eb156"
   },
   "outputs": [],
   "source": [
    "df.info()"
   ]
  },
  {
   "cell_type": "markdown",
   "metadata": {
    "id": "QllgwiPVR88y"
   },
   "source": [
    "# Data Cleaning"
   ]
  },
  {
   "cell_type": "code",
   "execution_count": null,
   "metadata": {
    "id": "pydircZDR8vq"
   },
   "outputs": [],
   "source": [
    "def remove_unneeded_phrases(trope_link, description):\n",
    "  #Link of page was commonly in the text\n",
    "  modified_description = description.replace(trope_link, '')\n",
    "  #Articles often started witht he below sentences in the beginning\n",
    "  standard_beginning_text = \", 'Go To', '&#010;&#010\"\n",
    "  modified_description = re.sub(r'Go To', '', modified_description, count=1)\n",
    "  modified_description = modified_description.replace(standard_beginning_text, '')\n",
    "  modified_description = re.sub(r'This page has been alphabetized. Please add new examples in the correct order.','',\n",
    "                                modified_description, count=1)\n",
    "  modified_description = re.sub(r'Thanks!','',\n",
    "                                modified_description, count=1)\n",
    "  modified_description = re.sub(r\"Image removed per Image Pickin' thread\",'',\n",
    "                                modified_description, count=1)\n",
    "  modified_description = re.sub(r\"Image selected per Image Pickin' thread\",'',\n",
    "                                modified_description, count=1)\n",
    "  modified_description = re.sub(r\"Image replaced per Image Pickin' thread\",'',\n",
    "                                modified_description, count=1)\n",
    "  modified_description = re.sub(r\"Image replaced per Image Pickin' thread\",'',\n",
    "                                modified_description, count=1)\n",
    "  pattern = r'8212;index&#8212;&#8212;/index&#8212;'\n",
    "  modified_description = re.sub(pattern,'',\n",
    "                                modified_description, count=1)\n",
    "  url_pattern = r'http[s]?://(?:[a-zA-Z]|[0-9]|[$-_@.&+]|[!*\\\\(\\\\),]|(?:%[0-9a-fA-F][0-9a-fA-F]))+|www\\.[a-zA-Z0-9-]+(\\.[a-zA-Z]{2,})+'\n",
    "  modified_description = re.sub(url_pattern,'',\n",
    "                                modified_description)\n",
    "  # HTML tags accidently scraped\n",
    "  tag_pattern = r'<[^>]+>.*?</[^>]+>|<[^>]+/?>'\n",
    "  modified_description = re.sub(tag_pattern,'',\n",
    "                                modified_description)\n",
    "  modified_description = re.sub(r\"Image selected via crowner in the Image Suggestion thread\",'',\n",
    "                                modified_description, count=1)\n",
    "  modified_description = re.sub(r\"do not change or remove without starting a new thread\",'',\n",
    "                                modified_description, count=1)\n",
    "  modified_description = re.sub(r\"This is based on opinion. Please don't list it on a work's trope example list\",'',\n",
    "                                modified_description, count=1)\n",
    "  modified_description = re.sub(r\"This list of examples has been alphabetized. Please add your example in the proper place\",'',\n",
    "                                modified_description, count=1)\n",
    "\n",
    "  return modified_description"
   ]
  },
  {
   "cell_type": "code",
   "execution_count": null,
   "metadata": {
    "id": "Gc5it9ArgUGY"
   },
   "outputs": [],
   "source": [
    "nlp = spacy.load(\"en_core_web_sm\")\n",
    "stop_words = set(stopwords.words('english'))"
   ]
  },
  {
   "cell_type": "code",
   "execution_count": null,
   "metadata": {
    "id": "IPVPdJIaf9jp"
   },
   "outputs": [],
   "source": [
    "def preprocess_text(text):\n",
    "  text_loss = []\n",
    "  text_loss_scores = []\n",
    "  # Lowercasing words\n",
    "  text = text.lower()\n",
    "  # Pass to lemmatizer\n",
    "  doc = nlp(text)\n",
    "  tokens = []\n",
    "  token_loss = []\n",
    "  token_loss_score = 0\n",
    "\n",
    "  # process each token\n",
    "  for token in doc:\n",
    "      if token.dep_ == 'neg':\n",
    "          head = token.head.lemma_\n",
    "          neg_token = 'not_' + head\n",
    "          tokens.append(neg_token)\n",
    "      elif token.lemma_.lower() not in stop_words and token.is_alpha:\n",
    "          tokens.append(token.lemma_)\n",
    "      elif token.is_alpha:\n",
    "        token_loss.append(token.lemma_)\n",
    "        token_loss_score += 1\n",
    "  return tokens, text_loss, text_loss_scores"
   ]
  },
  {
   "cell_type": "code",
   "execution_count": null,
   "metadata": {
    "id": "Id2wU-N1Ua4K"
   },
   "outputs": [],
   "source": [
    "df['trope_description_partial_clean'] = df.apply(lambda x: remove_unneeded_phrases(x['trope_link'], x['trope_description']), axis=1)"
   ]
  },
  {
   "cell_type": "code",
   "execution_count": null,
   "metadata": {
    "id": "_UDTYXeGgl7m"
   },
   "outputs": [],
   "source": [
    "df[['description_trad_clean','d_text_loss','d_loss_scores']] = df['trope_description_partial_clean'].apply(preprocess_text).apply(pd.Series)"
   ]
  },
  {
   "cell_type": "code",
   "execution_count": null,
   "metadata": {
    "id": "QSTGNzd6iooB"
   },
   "outputs": [],
   "source": [
    "df['description_clean_flattened'] = df['description_trad_clean'].apply(lambda x: ' '.join(map(str, x)))"
   ]
  },
  {
   "cell_type": "markdown",
   "metadata": {
    "id": "Cs3HGS6OmNIU"
   },
   "source": [
    "# Embedding"
   ]
  },
  {
   "cell_type": "code",
   "execution_count": null,
   "metadata": {
    "id": "8U3E2Mqm0_vG"
   },
   "outputs": [],
   "source": [
    "model = SentenceTransformer('all-mpnet-base-v2')\n",
    "def get_embedding(text):\n",
    "  embedding = model.encode(text)\n",
    "  return embedding\n",
    "def get_embedding_normalized(text):\n",
    "  embedding = model.encode(text)\n",
    "  normalized_embedding = normalize([embedding])[0]\n",
    "  return embedding"
   ]
  },
  {
   "cell_type": "code",
   "execution_count": null,
   "metadata": {},
   "outputs": [],
   "source": [
    "def embedding_columns(df:pd.Dataframe, column_name: str, norm: bool, output_path: str):\n",
    "    df_embedding = pd.DataFrame\n",
    "    df_embedding['trope_name'] = df['trope_name']\n",
    "    df_embedding['n_embedding'] = df['n_embedding']\n",
    "    if norm:\n",
    "        df_embedding['d_embedding'] = df[column_name].apply(lambda x: get_embedding_normalized(x).tolist())\n",
    "    else:\n",
    "        df_embeddding['d_embedding'] = df[column_name].apply(lambda x: get_embedding(x).tolist())\n",
    "    df_embedding.to_csv(output_path)"
   ]
  },
  {
   "cell_type": "code",
   "execution_count": null,
   "metadata": {
    "id": "zACKgjDHn9vg"
   },
   "outputs": [],
   "source": [
    "df['d_embedding_trad_clean'] = df['description_clean_flattened'].apply(lambda x: get_embedding(x).tolist())\n",
    "df['n_embedding'] = df['trope_name'].apply(lambda x: get_embedding(x).tolist())"
   ]
  },
  {
   "cell_type": "code",
   "execution_count": null,
   "metadata": {
    "id": "-iMv0VONq8BC"
   },
   "outputs": [],
   "source": [
    "df.to_csv('../results/final_data_normalized.csv', index=False)"
   ]
  }
 ],
 "metadata": {
  "colab": {
   "provenance": []
  },
  "kernelspec": {
   "display_name": "Python 3 (ipykernel)",
   "language": "python",
   "name": "python3"
  },
  "language_info": {
   "codemirror_mode": {
    "name": "ipython",
    "version": 3
   },
   "file_extension": ".py",
   "mimetype": "text/x-python",
   "name": "python",
   "nbconvert_exporter": "python",
   "pygments_lexer": "ipython3",
   "version": "3.9.19"
  }
 },
 "nbformat": 4,
 "nbformat_minor": 1
}
